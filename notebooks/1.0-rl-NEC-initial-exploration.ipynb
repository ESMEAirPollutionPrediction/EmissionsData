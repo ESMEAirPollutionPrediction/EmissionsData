{
 "cells": [
  {
   "cell_type": "markdown",
   "metadata": {},
   "source": [
    "# EU National Emission Ceilings (NEC) Directive Inventory\n",
    "\n",
    "Data from 1990 to 2021\n",
    "\n",
    "Source : https://www.eea.europa.eu/data-and-maps/data/ds_resolveuid/2BFB06C9-AB28-41EC-9808-576E32A36410\n",
    "\n",
    "By : Robin Lotode"
   ]
  },
  {
   "cell_type": "markdown",
   "metadata": {},
   "source": [
    "Documentation : (from data/raw/NEC_1990-2021/NEC_NFR19_2023_2023.xlsx)\n",
    "\n",
    "National Emission Ceilings (NEC) Directive Inventory - NFR19 sector classification - feature catalogue\n",
    "\n",
    "|Name |\tDefinition |\n",
    "|---|---|\n",
    "|Emissions  (float(8)) |\tEmission value. |\n",
    "|Country_code  (varchar(4)) |\tInternational Country Code. Note: ISO 3166-1-Alpha-2 code elements |\n",
    "|Country  (varchar(53)) |\tCountry name. |\n",
    "|Pollutant_name  (varchar(20)) |\tShort name of pollutant. Note: NH3, NMVOC, NOX, SO2 |\n",
    "|Format_name  (varchar(100)) |\tName of guideline. Note: NFR19 sector classification |\n",
    "|Sector_code  (varchar(15)) |\tSector code. Note: NFR19 sector classification |\n",
    "|Parent_sector_code  (varchar(15)) |\tParent sector code. Note: NFR09 sector classification |\n",
    "|Sector_name  (varchar(75)) |\tSector name. Note: NFR19 sector classification |\n",
    "|Year  (varchar(4)) |\tAnnual data. Note: 1990-2021 |\n",
    "|Unit  (varchar(40)) |\tEmission unit. Note: Kilotonne (1000 tonnes) |\n",
    "|Notation  (varchar(40)) |\tNotation key. |\n",
    "\n"
   ]
  },
  {
   "cell_type": "code",
   "execution_count": null,
   "metadata": {},
   "outputs": [],
   "source": [
    "import pandas as pd\n",
    "\n"
   ]
  }
 ],
 "metadata": {
  "kernelspec": {
   "display_name": "Python 3",
   "language": "python",
   "name": "python3"
  },
  "language_info": {
   "name": "python",
   "version": "3.11.6"
  }
 },
 "nbformat": 4,
 "nbformat_minor": 2
}
