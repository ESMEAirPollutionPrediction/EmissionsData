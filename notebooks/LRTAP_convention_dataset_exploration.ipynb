{
 "cells": [
  {
   "cell_type": "markdown",
   "id": "6251dfa7ff39d7f9",
   "metadata": {
    "collapsed": false
   },
   "source": [
    "# National emissions reported to the Convention on Long-range Transboundary Air Pollution (LRTAP Convention), 2023"
   ]
  },
  {
   "cell_type": "markdown",
   "id": "6b511b2e-1fb7-4e5d-aa78-f2f9fea17e9c",
   "metadata": {},
   "source": [
    "Data from 1990 to 2021\n",
    "\n",
    "Source : https://www.eea.europa.eu/en/datahub/datahubitem-view/5be6cebc-ed2b-4496-be59-93736fc4ad78?activeAccordion=\n",
    "\n",
    "By : Laurent Nopoly\n",
    "\n",
    "Setup : Download CSV file from Source link, add it in project/data/raw\n",
    "\n",
    "Documentation : (from source file NEC_NFR19_2023_2023.xlsx)\n",
    "\n",
    "National Emission Ceilings (NEC) Directive Inventory - NFR19 sector classification - feature catalogue"
   ]
  },
  {
   "cell_type": "markdown",
   "id": "3825c28523e389c3",
   "metadata": {
    "collapsed": false
   },
   "source": [
    "## Libraries import"
   ]
  },
  {
   "cell_type": "code",
   "execution_count": 3,
   "id": "c1383e5b8077896c",
   "metadata": {
    "collapsed": false,
    "ExecuteTime": {
     "end_time": "2023-10-18T08:02:19.044212100Z",
     "start_time": "2023-10-18T08:02:18.562486300Z"
    }
   },
   "outputs": [],
   "source": [
    "import pandas as pd\n",
    "import plotly"
   ]
  },
  {
   "cell_type": "markdown",
   "source": [
    "## Feature catalogue"
   ],
   "metadata": {
    "collapsed": false
   },
   "id": "116e4b2d44d97080"
  },
  {
   "cell_type": "code",
   "execution_count": 5,
   "outputs": [
    {
     "data": {
      "text/plain": "                  Name      Datatype  \\\n0           Emissions      float (8)   \n1         Country_code    varchar(4)   \n2              Country   varchar(53)   \n3       Pollutant_name   varchar(20)   \n4          Format_name  varchar(100)   \n5          Sector_code   varchar(15)   \n6   Parent_sector_code   varchar(15)   \n7          Sector_name  varchar(100)   \n8                 Year    varchar(4)   \n9                 Unit   varchar(40)   \n10            Notation   varchar(40)   \n\n                                           Definition  \n0                                     Emission value.  \n1   International Country Code. Note: ISO 3166-1-A...  \n2                                       Country name.  \n3   Short name of pollutant. Note: NOx (as NO2), N...  \n4   Name of guideline. Note: NFR19 sector classifi...  \n5      Sector code. Note: NFR19 sector classification  \n6   Parent sector code. Note: NFR19 sector classif...  \n7      Sector name. Note: NFR19 sector classification  \n8                      Annual data. Note: 1990 - 2021  \n9                                      Emission unit.  \n10                                      Notation key.  ",
      "text/html": "<div>\n<style scoped>\n    .dataframe tbody tr th:only-of-type {\n        vertical-align: middle;\n    }\n\n    .dataframe tbody tr th {\n        vertical-align: top;\n    }\n\n    .dataframe thead th {\n        text-align: right;\n    }\n</style>\n<table border=\"1\" class=\"dataframe\">\n  <thead>\n    <tr style=\"text-align: right;\">\n      <th></th>\n      <th>Name</th>\n      <th>Datatype</th>\n      <th>Definition</th>\n    </tr>\n  </thead>\n  <tbody>\n    <tr>\n      <th>0</th>\n      <td>Emissions</td>\n      <td>float (8)</td>\n      <td>Emission value.</td>\n    </tr>\n    <tr>\n      <th>1</th>\n      <td>Country_code</td>\n      <td>varchar(4)</td>\n      <td>International Country Code. Note: ISO 3166-1-A...</td>\n    </tr>\n    <tr>\n      <th>2</th>\n      <td>Country</td>\n      <td>varchar(53)</td>\n      <td>Country name.</td>\n    </tr>\n    <tr>\n      <th>3</th>\n      <td>Pollutant_name</td>\n      <td>varchar(20)</td>\n      <td>Short name of pollutant. Note: NOx (as NO2), N...</td>\n    </tr>\n    <tr>\n      <th>4</th>\n      <td>Format_name</td>\n      <td>varchar(100)</td>\n      <td>Name of guideline. Note: NFR19 sector classifi...</td>\n    </tr>\n    <tr>\n      <th>5</th>\n      <td>Sector_code</td>\n      <td>varchar(15)</td>\n      <td>Sector code. Note: NFR19 sector classification</td>\n    </tr>\n    <tr>\n      <th>6</th>\n      <td>Parent_sector_code</td>\n      <td>varchar(15)</td>\n      <td>Parent sector code. Note: NFR19 sector classif...</td>\n    </tr>\n    <tr>\n      <th>7</th>\n      <td>Sector_name</td>\n      <td>varchar(100)</td>\n      <td>Sector name. Note: NFR19 sector classification</td>\n    </tr>\n    <tr>\n      <th>8</th>\n      <td>Year</td>\n      <td>varchar(4)</td>\n      <td>Annual data. Note: 1990 - 2021</td>\n    </tr>\n    <tr>\n      <th>9</th>\n      <td>Unit</td>\n      <td>varchar(40)</td>\n      <td>Emission unit.</td>\n    </tr>\n    <tr>\n      <th>10</th>\n      <td>Notation</td>\n      <td>varchar(40)</td>\n      <td>Notation key.</td>\n    </tr>\n  </tbody>\n</table>\n</div>"
     },
     "execution_count": 5,
     "metadata": {},
     "output_type": "execute_result"
    }
   ],
   "source": [
    "excel_file = '../references/LRTAP-Table_definition.xlsx'\n",
    "df_catalogue = pd.read_excel(excel_file, sheet_name='Sheet1', header=2)\n",
    "df_catalogue"
   ],
   "metadata": {
    "collapsed": false,
    "ExecuteTime": {
     "end_time": "2023-10-18T08:05:03.069353200Z",
     "start_time": "2023-10-18T08:05:02.651912100Z"
    }
   },
   "id": "340cb68d42ca654f"
  },
  {
   "cell_type": "markdown",
   "source": [
    "## Dataset exploration"
   ],
   "metadata": {
    "collapsed": false
   },
   "id": "4a5b718716b35162"
  },
  {
   "cell_type": "code",
   "execution_count": 7,
   "id": "cc48bb9ac2d23219",
   "metadata": {
    "collapsed": false,
    "ExecuteTime": {
     "end_time": "2023-10-18T08:13:45.986365300Z",
     "start_time": "2023-10-18T08:13:40.829648900Z"
    }
   },
   "outputs": [
    {
     "name": "stderr",
     "output_type": "stream",
     "text": [
      "C:\\Users\\lnop0\\AppData\\Local\\Temp\\ipykernel_23644\\3182375381.py:1: DtypeWarning: Columns (10,11) have mixed types. Specify dtype option on import or set low_memory=False.\n",
      "  df = pd.read_csv(\"../data_store/raw/CLRTAP_NVFR19_V23_1_GF_csv.csv\",sep='\\t')\n"
     ]
    }
   ],
   "source": [
    "df = pd.read_csv(\"../data_store/raw/CLRTAP_NVFR19_V23_1_GF_csv.csv\",sep='\\t')"
   ]
  },
  {
   "cell_type": "code",
   "execution_count": 17,
   "id": "73f2d397-a887-46cb-84e0-69898194203c",
   "metadata": {
    "ExecuteTime": {
     "end_time": "2023-10-18T08:27:54.591057900Z",
     "start_time": "2023-10-18T08:27:54.576033900Z"
    }
   },
   "outputs": [
    {
     "name": "stdout",
     "output_type": "stream",
     "text": [
      "Dataset Headers:['Country_Code', 'Country', 'Pollutant_name', 'Format_name', 'Sector_code', 'Year', 'Emissions', 'Unit', 'Notation', 'VersionId', 'Parent_sector_code', 'Sector_name']\n",
      "\n",
      "Dataset shape:(3933696, 12)\n"
     ]
    },
    {
     "data": {
      "text/plain": "Country_Code           object\nCountry                object\nPollutant_name         object\nFormat_name            object\nSector_code            object\nYear                    int64\nEmissions             float64\nUnit                   object\nNotation              float64\nVersionId             float64\nParent_sector_code     object\nSector_name            object\ndtype: object"
     },
     "execution_count": 17,
     "metadata": {},
     "output_type": "execute_result"
    }
   ],
   "source": [
    "print(\"Dataset Headers:{}\\n\".format(list(df.columns)))\n",
    "print(\"Dataset shape:{}\\n\".format(df.shape))\n",
    "df.dtypes"
   ]
  },
  {
   "cell_type": "code",
   "execution_count": 8,
   "id": "a15bb42c-e778-4948-b3cc-0ade4c354d24",
   "metadata": {},
   "outputs": [
    {
     "data": {
      "text/html": [
       "<div>\n",
       "<style scoped>\n",
       "    .dataframe tbody tr th:only-of-type {\n",
       "        vertical-align: middle;\n",
       "    }\n",
       "\n",
       "    .dataframe tbody tr th {\n",
       "        vertical-align: top;\n",
       "    }\n",
       "\n",
       "    .dataframe thead th {\n",
       "        text-align: right;\n",
       "    }\n",
       "</style>\n",
       "<table border=\"1\" class=\"dataframe\">\n",
       "  <thead>\n",
       "    <tr style=\"text-align: right;\">\n",
       "      <th></th>\n",
       "      <th>Country_Code</th>\n",
       "      <th>Country</th>\n",
       "      <th>Pollutant_name</th>\n",
       "      <th>Format_name</th>\n",
       "      <th>Sector_code</th>\n",
       "      <th>Year</th>\n",
       "      <th>Emissions</th>\n",
       "      <th>Unit</th>\n",
       "      <th>Notation</th>\n",
       "      <th>VersionId</th>\n",
       "      <th>Parent_sector_code</th>\n",
       "      <th>Sector_name</th>\n",
       "    </tr>\n",
       "  </thead>\n",
       "  <tbody>\n",
       "    <tr>\n",
       "      <th>0</th>\n",
       "      <td>AT</td>\n",
       "      <td>Austria</td>\n",
       "      <td>As</td>\n",
       "      <td>NFR 2014-1</td>\n",
       "      <td>1A1a</td>\n",
       "      <td>1990</td>\n",
       "      <td>NaN</td>\n",
       "      <td>Mg</td>\n",
       "      <td>NaN</td>\n",
       "      <td>1.0</td>\n",
       "      <td>NATIONAL TOTAL</td>\n",
       "      <td>Public electricity and heat production</td>\n",
       "    </tr>\n",
       "    <tr>\n",
       "      <th>1</th>\n",
       "      <td>AT</td>\n",
       "      <td>Austria</td>\n",
       "      <td>As</td>\n",
       "      <td>NFR 2014-1</td>\n",
       "      <td>1A1b</td>\n",
       "      <td>1990</td>\n",
       "      <td>NaN</td>\n",
       "      <td>Mg</td>\n",
       "      <td>NaN</td>\n",
       "      <td>1.0</td>\n",
       "      <td>NATIONAL TOTAL</td>\n",
       "      <td>Petroleum refining</td>\n",
       "    </tr>\n",
       "    <tr>\n",
       "      <th>2</th>\n",
       "      <td>AT</td>\n",
       "      <td>Austria</td>\n",
       "      <td>As</td>\n",
       "      <td>NFR 2014-1</td>\n",
       "      <td>1A1c</td>\n",
       "      <td>1990</td>\n",
       "      <td>NaN</td>\n",
       "      <td>Mg</td>\n",
       "      <td>NaN</td>\n",
       "      <td>1.0</td>\n",
       "      <td>NATIONAL TOTAL</td>\n",
       "      <td>Manufacture of solid fuels and other energy in...</td>\n",
       "    </tr>\n",
       "    <tr>\n",
       "      <th>3</th>\n",
       "      <td>AT</td>\n",
       "      <td>Austria</td>\n",
       "      <td>As</td>\n",
       "      <td>NFR 2014-1</td>\n",
       "      <td>1A2a</td>\n",
       "      <td>1990</td>\n",
       "      <td>NaN</td>\n",
       "      <td>Mg</td>\n",
       "      <td>NaN</td>\n",
       "      <td>1.0</td>\n",
       "      <td>NATIONAL TOTAL</td>\n",
       "      <td>Stationary combustion in manufacturing industr...</td>\n",
       "    </tr>\n",
       "    <tr>\n",
       "      <th>4</th>\n",
       "      <td>AT</td>\n",
       "      <td>Austria</td>\n",
       "      <td>As</td>\n",
       "      <td>NFR 2014-1</td>\n",
       "      <td>1A2b</td>\n",
       "      <td>1990</td>\n",
       "      <td>NaN</td>\n",
       "      <td>Mg</td>\n",
       "      <td>NaN</td>\n",
       "      <td>1.0</td>\n",
       "      <td>NATIONAL TOTAL</td>\n",
       "      <td>Stationary combustion in manufacturing industr...</td>\n",
       "    </tr>\n",
       "    <tr>\n",
       "      <th>5</th>\n",
       "      <td>AT</td>\n",
       "      <td>Austria</td>\n",
       "      <td>As</td>\n",
       "      <td>NFR 2014-1</td>\n",
       "      <td>1A2c</td>\n",
       "      <td>1990</td>\n",
       "      <td>NaN</td>\n",
       "      <td>Mg</td>\n",
       "      <td>NaN</td>\n",
       "      <td>1.0</td>\n",
       "      <td>NATIONAL TOTAL</td>\n",
       "      <td>Stationary combustion in manufacturing industr...</td>\n",
       "    </tr>\n",
       "    <tr>\n",
       "      <th>6</th>\n",
       "      <td>AT</td>\n",
       "      <td>Austria</td>\n",
       "      <td>As</td>\n",
       "      <td>NFR 2014-1</td>\n",
       "      <td>1A2d</td>\n",
       "      <td>1990</td>\n",
       "      <td>NaN</td>\n",
       "      <td>Mg</td>\n",
       "      <td>NaN</td>\n",
       "      <td>1.0</td>\n",
       "      <td>NATIONAL TOTAL</td>\n",
       "      <td>Stationary combustion in manufacturing industr...</td>\n",
       "    </tr>\n",
       "    <tr>\n",
       "      <th>7</th>\n",
       "      <td>AT</td>\n",
       "      <td>Austria</td>\n",
       "      <td>As</td>\n",
       "      <td>NFR 2014-1</td>\n",
       "      <td>1A2e</td>\n",
       "      <td>1990</td>\n",
       "      <td>NaN</td>\n",
       "      <td>Mg</td>\n",
       "      <td>NaN</td>\n",
       "      <td>1.0</td>\n",
       "      <td>NATIONAL TOTAL</td>\n",
       "      <td>Stationary combustion in manufacturing industr...</td>\n",
       "    </tr>\n",
       "    <tr>\n",
       "      <th>8</th>\n",
       "      <td>AT</td>\n",
       "      <td>Austria</td>\n",
       "      <td>As</td>\n",
       "      <td>NFR 2014-1</td>\n",
       "      <td>1A2f</td>\n",
       "      <td>1990</td>\n",
       "      <td>NaN</td>\n",
       "      <td>Mg</td>\n",
       "      <td>NaN</td>\n",
       "      <td>1.0</td>\n",
       "      <td>NATIONAL TOTAL</td>\n",
       "      <td>Stationary combustion in manufacturing industr...</td>\n",
       "    </tr>\n",
       "    <tr>\n",
       "      <th>9</th>\n",
       "      <td>AT</td>\n",
       "      <td>Austria</td>\n",
       "      <td>As</td>\n",
       "      <td>NFR 2014-1</td>\n",
       "      <td>1A2gvii</td>\n",
       "      <td>1990</td>\n",
       "      <td>NaN</td>\n",
       "      <td>Mg</td>\n",
       "      <td>NaN</td>\n",
       "      <td>1.0</td>\n",
       "      <td>NATIONAL TOTAL</td>\n",
       "      <td>Mobile Combustion in manufacturing industries ...</td>\n",
       "    </tr>\n",
       "  </tbody>\n",
       "</table>\n",
       "</div>"
      ],
      "text/plain": [
       "  Country_Code  Country Pollutant_name Format_name Sector_code  Year  \\\n",
       "0           AT  Austria             As  NFR 2014-1        1A1a  1990   \n",
       "1           AT  Austria             As  NFR 2014-1        1A1b  1990   \n",
       "2           AT  Austria             As  NFR 2014-1        1A1c  1990   \n",
       "3           AT  Austria             As  NFR 2014-1        1A2a  1990   \n",
       "4           AT  Austria             As  NFR 2014-1        1A2b  1990   \n",
       "5           AT  Austria             As  NFR 2014-1        1A2c  1990   \n",
       "6           AT  Austria             As  NFR 2014-1        1A2d  1990   \n",
       "7           AT  Austria             As  NFR 2014-1        1A2e  1990   \n",
       "8           AT  Austria             As  NFR 2014-1        1A2f  1990   \n",
       "9           AT  Austria             As  NFR 2014-1     1A2gvii  1990   \n",
       "\n",
       "   Emissions Unit  Notation  VersionId Parent_sector_code  \\\n",
       "0        NaN   Mg       NaN        1.0     NATIONAL TOTAL   \n",
       "1        NaN   Mg       NaN        1.0     NATIONAL TOTAL   \n",
       "2        NaN   Mg       NaN        1.0     NATIONAL TOTAL   \n",
       "3        NaN   Mg       NaN        1.0     NATIONAL TOTAL   \n",
       "4        NaN   Mg       NaN        1.0     NATIONAL TOTAL   \n",
       "5        NaN   Mg       NaN        1.0     NATIONAL TOTAL   \n",
       "6        NaN   Mg       NaN        1.0     NATIONAL TOTAL   \n",
       "7        NaN   Mg       NaN        1.0     NATIONAL TOTAL   \n",
       "8        NaN   Mg       NaN        1.0     NATIONAL TOTAL   \n",
       "9        NaN   Mg       NaN        1.0     NATIONAL TOTAL   \n",
       "\n",
       "                                         Sector_name  \n",
       "0             Public electricity and heat production  \n",
       "1                                 Petroleum refining  \n",
       "2  Manufacture of solid fuels and other energy in...  \n",
       "3  Stationary combustion in manufacturing industr...  \n",
       "4  Stationary combustion in manufacturing industr...  \n",
       "5  Stationary combustion in manufacturing industr...  \n",
       "6  Stationary combustion in manufacturing industr...  \n",
       "7  Stationary combustion in manufacturing industr...  \n",
       "8  Stationary combustion in manufacturing industr...  \n",
       "9  Mobile Combustion in manufacturing industries ...  "
      ]
     },
     "execution_count": 8,
     "metadata": {},
     "output_type": "execute_result"
    }
   ],
   "source": [
    "df.head(10)"
   ]
  },
  {
   "cell_type": "markdown",
   "source": [
    "## Values"
   ],
   "metadata": {
    "collapsed": false
   },
   "id": "fccd2e921a4e79af"
  },
  {
   "cell_type": "markdown",
   "source": [
    "### Target/Features"
   ],
   "metadata": {
    "collapsed": false
   },
   "id": "62618ee92f04440"
  },
  {
   "cell_type": "code",
   "execution_count": 27,
   "outputs": [
    {
     "name": "stdout",
     "output_type": "stream",
     "text": [
      "(3933696, 12)\n",
      "Index(['Country_Code', 'Country', 'Pollutant_name', 'Format_name',\n",
      "       'Sector_code', 'Year', 'Emissions', 'Unit', 'Notation', 'VersionId',\n",
      "       'Parent_sector_code', 'Sector_name'],\n",
      "      dtype='object')\n"
     ]
    },
    {
     "ename": "KeyError",
     "evalue": "\"['Unit'] not found in axis\"",
     "output_type": "error",
     "traceback": [
      "\u001B[1;31m---------------------------------------------------------------------------\u001B[0m",
      "\u001B[1;31mKeyError\u001B[0m                                  Traceback (most recent call last)",
      "Cell \u001B[1;32mIn[27], line 4\u001B[0m\n\u001B[0;32m      2\u001B[0m \u001B[38;5;28mprint\u001B[39m(df_features\u001B[38;5;241m.\u001B[39mshape)\n\u001B[0;32m      3\u001B[0m \u001B[38;5;28mprint\u001B[39m(df_features\u001B[38;5;241m.\u001B[39mcolumns)\n\u001B[1;32m----> 4\u001B[0m \u001B[43mdf_features\u001B[49m\u001B[38;5;241;43m.\u001B[39;49m\u001B[43mdrop\u001B[49m\u001B[43m(\u001B[49m\u001B[43m[\u001B[49m\u001B[38;5;124;43m'\u001B[39;49m\u001B[38;5;124;43mUnit\u001B[39;49m\u001B[38;5;124;43m'\u001B[39;49m\u001B[43m]\u001B[49m\u001B[43m)\u001B[49m\n\u001B[0;32m      5\u001B[0m \u001B[38;5;28mprint\u001B[39m(df_features\u001B[38;5;241m.\u001B[39mshape)\n\u001B[0;32m      6\u001B[0m \u001B[38;5;28mprint\u001B[39m(df_features\u001B[38;5;241m.\u001B[39mcolumns)\n",
      "File \u001B[1;32m~\\PycharmProjects\\PFE-ESME-predict_cities_air_pollution\\venv\\lib\\site-packages\\pandas\\core\\frame.py:5347\u001B[0m, in \u001B[0;36mDataFrame.drop\u001B[1;34m(self, labels, axis, index, columns, level, inplace, errors)\u001B[0m\n\u001B[0;32m   5199\u001B[0m \u001B[38;5;28;01mdef\u001B[39;00m \u001B[38;5;21mdrop\u001B[39m(\n\u001B[0;32m   5200\u001B[0m     \u001B[38;5;28mself\u001B[39m,\n\u001B[0;32m   5201\u001B[0m     labels: IndexLabel \u001B[38;5;241m|\u001B[39m \u001B[38;5;28;01mNone\u001B[39;00m \u001B[38;5;241m=\u001B[39m \u001B[38;5;28;01mNone\u001B[39;00m,\n\u001B[1;32m   (...)\u001B[0m\n\u001B[0;32m   5208\u001B[0m     errors: IgnoreRaise \u001B[38;5;241m=\u001B[39m \u001B[38;5;124m\"\u001B[39m\u001B[38;5;124mraise\u001B[39m\u001B[38;5;124m\"\u001B[39m,\n\u001B[0;32m   5209\u001B[0m ) \u001B[38;5;241m-\u001B[39m\u001B[38;5;241m>\u001B[39m DataFrame \u001B[38;5;241m|\u001B[39m \u001B[38;5;28;01mNone\u001B[39;00m:\n\u001B[0;32m   5210\u001B[0m \u001B[38;5;250m    \u001B[39m\u001B[38;5;124;03m\"\"\"\u001B[39;00m\n\u001B[0;32m   5211\u001B[0m \u001B[38;5;124;03m    Drop specified labels from rows or columns.\u001B[39;00m\n\u001B[0;32m   5212\u001B[0m \n\u001B[1;32m   (...)\u001B[0m\n\u001B[0;32m   5345\u001B[0m \u001B[38;5;124;03m            weight  1.0     0.8\u001B[39;00m\n\u001B[0;32m   5346\u001B[0m \u001B[38;5;124;03m    \"\"\"\u001B[39;00m\n\u001B[1;32m-> 5347\u001B[0m     \u001B[38;5;28;01mreturn\u001B[39;00m \u001B[38;5;28;43msuper\u001B[39;49m\u001B[43m(\u001B[49m\u001B[43m)\u001B[49m\u001B[38;5;241;43m.\u001B[39;49m\u001B[43mdrop\u001B[49m\u001B[43m(\u001B[49m\n\u001B[0;32m   5348\u001B[0m \u001B[43m        \u001B[49m\u001B[43mlabels\u001B[49m\u001B[38;5;241;43m=\u001B[39;49m\u001B[43mlabels\u001B[49m\u001B[43m,\u001B[49m\n\u001B[0;32m   5349\u001B[0m \u001B[43m        \u001B[49m\u001B[43maxis\u001B[49m\u001B[38;5;241;43m=\u001B[39;49m\u001B[43maxis\u001B[49m\u001B[43m,\u001B[49m\n\u001B[0;32m   5350\u001B[0m \u001B[43m        \u001B[49m\u001B[43mindex\u001B[49m\u001B[38;5;241;43m=\u001B[39;49m\u001B[43mindex\u001B[49m\u001B[43m,\u001B[49m\n\u001B[0;32m   5351\u001B[0m \u001B[43m        \u001B[49m\u001B[43mcolumns\u001B[49m\u001B[38;5;241;43m=\u001B[39;49m\u001B[43mcolumns\u001B[49m\u001B[43m,\u001B[49m\n\u001B[0;32m   5352\u001B[0m \u001B[43m        \u001B[49m\u001B[43mlevel\u001B[49m\u001B[38;5;241;43m=\u001B[39;49m\u001B[43mlevel\u001B[49m\u001B[43m,\u001B[49m\n\u001B[0;32m   5353\u001B[0m \u001B[43m        \u001B[49m\u001B[43minplace\u001B[49m\u001B[38;5;241;43m=\u001B[39;49m\u001B[43minplace\u001B[49m\u001B[43m,\u001B[49m\n\u001B[0;32m   5354\u001B[0m \u001B[43m        \u001B[49m\u001B[43merrors\u001B[49m\u001B[38;5;241;43m=\u001B[39;49m\u001B[43merrors\u001B[49m\u001B[43m,\u001B[49m\n\u001B[0;32m   5355\u001B[0m \u001B[43m    \u001B[49m\u001B[43m)\u001B[49m\n",
      "File \u001B[1;32m~\\PycharmProjects\\PFE-ESME-predict_cities_air_pollution\\venv\\lib\\site-packages\\pandas\\core\\generic.py:4711\u001B[0m, in \u001B[0;36mNDFrame.drop\u001B[1;34m(self, labels, axis, index, columns, level, inplace, errors)\u001B[0m\n\u001B[0;32m   4709\u001B[0m \u001B[38;5;28;01mfor\u001B[39;00m axis, labels \u001B[38;5;129;01min\u001B[39;00m axes\u001B[38;5;241m.\u001B[39mitems():\n\u001B[0;32m   4710\u001B[0m     \u001B[38;5;28;01mif\u001B[39;00m labels \u001B[38;5;129;01mis\u001B[39;00m \u001B[38;5;129;01mnot\u001B[39;00m \u001B[38;5;28;01mNone\u001B[39;00m:\n\u001B[1;32m-> 4711\u001B[0m         obj \u001B[38;5;241m=\u001B[39m \u001B[43mobj\u001B[49m\u001B[38;5;241;43m.\u001B[39;49m\u001B[43m_drop_axis\u001B[49m\u001B[43m(\u001B[49m\u001B[43mlabels\u001B[49m\u001B[43m,\u001B[49m\u001B[43m \u001B[49m\u001B[43maxis\u001B[49m\u001B[43m,\u001B[49m\u001B[43m \u001B[49m\u001B[43mlevel\u001B[49m\u001B[38;5;241;43m=\u001B[39;49m\u001B[43mlevel\u001B[49m\u001B[43m,\u001B[49m\u001B[43m \u001B[49m\u001B[43merrors\u001B[49m\u001B[38;5;241;43m=\u001B[39;49m\u001B[43merrors\u001B[49m\u001B[43m)\u001B[49m\n\u001B[0;32m   4713\u001B[0m \u001B[38;5;28;01mif\u001B[39;00m inplace:\n\u001B[0;32m   4714\u001B[0m     \u001B[38;5;28mself\u001B[39m\u001B[38;5;241m.\u001B[39m_update_inplace(obj)\n",
      "File \u001B[1;32m~\\PycharmProjects\\PFE-ESME-predict_cities_air_pollution\\venv\\lib\\site-packages\\pandas\\core\\generic.py:4753\u001B[0m, in \u001B[0;36mNDFrame._drop_axis\u001B[1;34m(self, labels, axis, level, errors, only_slice)\u001B[0m\n\u001B[0;32m   4751\u001B[0m         new_axis \u001B[38;5;241m=\u001B[39m axis\u001B[38;5;241m.\u001B[39mdrop(labels, level\u001B[38;5;241m=\u001B[39mlevel, errors\u001B[38;5;241m=\u001B[39merrors)\n\u001B[0;32m   4752\u001B[0m     \u001B[38;5;28;01melse\u001B[39;00m:\n\u001B[1;32m-> 4753\u001B[0m         new_axis \u001B[38;5;241m=\u001B[39m \u001B[43maxis\u001B[49m\u001B[38;5;241;43m.\u001B[39;49m\u001B[43mdrop\u001B[49m\u001B[43m(\u001B[49m\u001B[43mlabels\u001B[49m\u001B[43m,\u001B[49m\u001B[43m \u001B[49m\u001B[43merrors\u001B[49m\u001B[38;5;241;43m=\u001B[39;49m\u001B[43merrors\u001B[49m\u001B[43m)\u001B[49m\n\u001B[0;32m   4754\u001B[0m     indexer \u001B[38;5;241m=\u001B[39m axis\u001B[38;5;241m.\u001B[39mget_indexer(new_axis)\n\u001B[0;32m   4756\u001B[0m \u001B[38;5;66;03m# Case for non-unique axis\u001B[39;00m\n\u001B[0;32m   4757\u001B[0m \u001B[38;5;28;01melse\u001B[39;00m:\n",
      "File \u001B[1;32m~\\PycharmProjects\\PFE-ESME-predict_cities_air_pollution\\venv\\lib\\site-packages\\pandas\\core\\indexes\\base.py:6992\u001B[0m, in \u001B[0;36mIndex.drop\u001B[1;34m(self, labels, errors)\u001B[0m\n\u001B[0;32m   6990\u001B[0m \u001B[38;5;28;01mif\u001B[39;00m mask\u001B[38;5;241m.\u001B[39many():\n\u001B[0;32m   6991\u001B[0m     \u001B[38;5;28;01mif\u001B[39;00m errors \u001B[38;5;241m!=\u001B[39m \u001B[38;5;124m\"\u001B[39m\u001B[38;5;124mignore\u001B[39m\u001B[38;5;124m\"\u001B[39m:\n\u001B[1;32m-> 6992\u001B[0m         \u001B[38;5;28;01mraise\u001B[39;00m \u001B[38;5;167;01mKeyError\u001B[39;00m(\u001B[38;5;124mf\u001B[39m\u001B[38;5;124m\"\u001B[39m\u001B[38;5;132;01m{\u001B[39;00mlabels[mask]\u001B[38;5;241m.\u001B[39mtolist()\u001B[38;5;132;01m}\u001B[39;00m\u001B[38;5;124m not found in axis\u001B[39m\u001B[38;5;124m\"\u001B[39m)\n\u001B[0;32m   6993\u001B[0m     indexer \u001B[38;5;241m=\u001B[39m indexer[\u001B[38;5;241m~\u001B[39mmask]\n\u001B[0;32m   6994\u001B[0m \u001B[38;5;28;01mreturn\u001B[39;00m \u001B[38;5;28mself\u001B[39m\u001B[38;5;241m.\u001B[39mdelete(indexer)\n",
      "\u001B[1;31mKeyError\u001B[0m: \"['Unit'] not found in axis\""
     ]
    }
   ],
   "source": [
    "df_features = df.copy()\n",
    "print(df_features.shape)\n",
    "print(df_features.columns)\n",
    "df_features.drop(['Unit'], )\n",
    "print(df_features.shape)\n",
    "print(df_features.columns)"
   ],
   "metadata": {
    "collapsed": false,
    "ExecuteTime": {
     "end_time": "2023-10-18T08:55:48.993719800Z",
     "start_time": "2023-10-18T08:55:48.279635900Z"
    }
   },
   "id": "fc7d5a27b700b1f4"
  },
  {
   "cell_type": "markdown",
   "source": [
    "### Unique values"
   ],
   "metadata": {
    "collapsed": false
   },
   "id": "2c2d62330642ff2"
  },
  {
   "cell_type": "code",
   "execution_count": 20,
   "outputs": [
    {
     "name": "stdout",
     "output_type": "stream",
     "text": [
      "Nbr unique values\n"
     ]
    },
    {
     "data": {
      "text/plain": "       Country_Code : 34 Country : 35 Pollutant_name : 26  \\\n0                     AT      Austria                  As   \n1                     BE      Belgium                  BC   \n2                     DK      Denmark            benzo(a)   \n3                     FI      Finland            benzo(b)   \n4                     FR       France            benzo(k)   \n...                  ...          ...                 ...   \n965140              None         None                None   \n965141              None         None                None   \n965142              None         None                None   \n965143              None         None                None   \n965144              None         None                None   \n\n                        Format_name : 2 Sector_code : 141  Year : 32  \\\n0                            NFR 2014-1              1A1a     1990.0   \n1       NEC NFR-1 sector classification              1A1b     1991.0   \n2                                  None              1A1c     1992.0   \n3                                  None              1A2a     1993.0   \n4                                  None              1A2b     1994.0   \n...                                 ...               ...        ...   \n965140                             None              None        NaN   \n965141                             None              None        NaN   \n965142                             None              None        NaN   \n965143                             None              None        NaN   \n965144                             None              None        NaN   \n\n        Emissions : 965145 Unit : 4  Notation : 1  VersionId : 2  \\\n0                      NaN       Mg           NaN            1.0   \n1                 2.014674       Gg           NaN            NaN   \n2                 0.011000        g           NaN            NaN   \n3                 0.142027       kg           NaN            NaN   \n4                 0.299309     None           NaN            NaN   \n...                    ...      ...           ...            ...   \n965140            4.762444     None           NaN            NaN   \n965141          111.584970     None           NaN            NaN   \n965142           80.941009     None           NaN            NaN   \n965143            0.000968     None           NaN            NaN   \n965144            1.082164     None           NaN            NaN   \n\n       Parent_sector_code : 2  \\\n0              NATIONAL TOTAL   \n1                         NaN   \n2                        None   \n3                        None   \n4                        None   \n...                       ...   \n965140                   None   \n965141                   None   \n965142                   None   \n965143                   None   \n965144                   None   \n\n                                        Sector_name : 162  \n0                  Public electricity and heat production  \n1                                      Petroleum refining  \n2       Manufacture of solid fuels and other energy in...  \n3       Stationary combustion in manufacturing industr...  \n4       Stationary combustion in manufacturing industr...  \n...                                                   ...  \n965140                                               None  \n965141                                               None  \n965142                                               None  \n965143                                               None  \n965144                                               None  \n\n[965145 rows x 12 columns]",
      "text/html": "<div>\n<style scoped>\n    .dataframe tbody tr th:only-of-type {\n        vertical-align: middle;\n    }\n\n    .dataframe tbody tr th {\n        vertical-align: top;\n    }\n\n    .dataframe thead th {\n        text-align: right;\n    }\n</style>\n<table border=\"1\" class=\"dataframe\">\n  <thead>\n    <tr style=\"text-align: right;\">\n      <th></th>\n      <th>Country_Code : 34</th>\n      <th>Country : 35</th>\n      <th>Pollutant_name : 26</th>\n      <th>Format_name : 2</th>\n      <th>Sector_code : 141</th>\n      <th>Year : 32</th>\n      <th>Emissions : 965145</th>\n      <th>Unit : 4</th>\n      <th>Notation : 1</th>\n      <th>VersionId : 2</th>\n      <th>Parent_sector_code : 2</th>\n      <th>Sector_name : 162</th>\n    </tr>\n  </thead>\n  <tbody>\n    <tr>\n      <th>0</th>\n      <td>AT</td>\n      <td>Austria</td>\n      <td>As</td>\n      <td>NFR 2014-1</td>\n      <td>1A1a</td>\n      <td>1990.0</td>\n      <td>NaN</td>\n      <td>Mg</td>\n      <td>NaN</td>\n      <td>1.0</td>\n      <td>NATIONAL TOTAL</td>\n      <td>Public electricity and heat production</td>\n    </tr>\n    <tr>\n      <th>1</th>\n      <td>BE</td>\n      <td>Belgium</td>\n      <td>BC</td>\n      <td>NEC NFR-1 sector classification</td>\n      <td>1A1b</td>\n      <td>1991.0</td>\n      <td>2.014674</td>\n      <td>Gg</td>\n      <td>NaN</td>\n      <td>NaN</td>\n      <td>NaN</td>\n      <td>Petroleum refining</td>\n    </tr>\n    <tr>\n      <th>2</th>\n      <td>DK</td>\n      <td>Denmark</td>\n      <td>benzo(a)</td>\n      <td>None</td>\n      <td>1A1c</td>\n      <td>1992.0</td>\n      <td>0.011000</td>\n      <td>g</td>\n      <td>NaN</td>\n      <td>NaN</td>\n      <td>None</td>\n      <td>Manufacture of solid fuels and other energy in...</td>\n    </tr>\n    <tr>\n      <th>3</th>\n      <td>FI</td>\n      <td>Finland</td>\n      <td>benzo(b)</td>\n      <td>None</td>\n      <td>1A2a</td>\n      <td>1993.0</td>\n      <td>0.142027</td>\n      <td>kg</td>\n      <td>NaN</td>\n      <td>NaN</td>\n      <td>None</td>\n      <td>Stationary combustion in manufacturing industr...</td>\n    </tr>\n    <tr>\n      <th>4</th>\n      <td>FR</td>\n      <td>France</td>\n      <td>benzo(k)</td>\n      <td>None</td>\n      <td>1A2b</td>\n      <td>1994.0</td>\n      <td>0.299309</td>\n      <td>None</td>\n      <td>NaN</td>\n      <td>NaN</td>\n      <td>None</td>\n      <td>Stationary combustion in manufacturing industr...</td>\n    </tr>\n    <tr>\n      <th>...</th>\n      <td>...</td>\n      <td>...</td>\n      <td>...</td>\n      <td>...</td>\n      <td>...</td>\n      <td>...</td>\n      <td>...</td>\n      <td>...</td>\n      <td>...</td>\n      <td>...</td>\n      <td>...</td>\n      <td>...</td>\n    </tr>\n    <tr>\n      <th>965140</th>\n      <td>None</td>\n      <td>None</td>\n      <td>None</td>\n      <td>None</td>\n      <td>None</td>\n      <td>NaN</td>\n      <td>4.762444</td>\n      <td>None</td>\n      <td>NaN</td>\n      <td>NaN</td>\n      <td>None</td>\n      <td>None</td>\n    </tr>\n    <tr>\n      <th>965141</th>\n      <td>None</td>\n      <td>None</td>\n      <td>None</td>\n      <td>None</td>\n      <td>None</td>\n      <td>NaN</td>\n      <td>111.584970</td>\n      <td>None</td>\n      <td>NaN</td>\n      <td>NaN</td>\n      <td>None</td>\n      <td>None</td>\n    </tr>\n    <tr>\n      <th>965142</th>\n      <td>None</td>\n      <td>None</td>\n      <td>None</td>\n      <td>None</td>\n      <td>None</td>\n      <td>NaN</td>\n      <td>80.941009</td>\n      <td>None</td>\n      <td>NaN</td>\n      <td>NaN</td>\n      <td>None</td>\n      <td>None</td>\n    </tr>\n    <tr>\n      <th>965143</th>\n      <td>None</td>\n      <td>None</td>\n      <td>None</td>\n      <td>None</td>\n      <td>None</td>\n      <td>NaN</td>\n      <td>0.000968</td>\n      <td>None</td>\n      <td>NaN</td>\n      <td>NaN</td>\n      <td>None</td>\n      <td>None</td>\n    </tr>\n    <tr>\n      <th>965144</th>\n      <td>None</td>\n      <td>None</td>\n      <td>None</td>\n      <td>None</td>\n      <td>None</td>\n      <td>NaN</td>\n      <td>1.082164</td>\n      <td>None</td>\n      <td>NaN</td>\n      <td>NaN</td>\n      <td>None</td>\n      <td>None</td>\n    </tr>\n  </tbody>\n</table>\n<p>965145 rows × 12 columns</p>\n</div>"
     },
     "execution_count": 20,
     "metadata": {},
     "output_type": "execute_result"
    }
   ],
   "source": [
    "df_dict = {}\n",
    "print(\"Nbr unique values\")\n",
    "for col in df.columns:\n",
    "        attributes = list(df[col].unique())\n",
    "        df_dict[f'{col} : {len(attributes)}'] = attributes\n",
    "\n",
    "# Trouver la longueur maximale parmi toutes les listes\n",
    "length_max = max(len(v) for v in df_dict.values())\n",
    "\n",
    "# Égaliser les longueurs des listes\n",
    "for cle, tab in df_dict.items():\n",
    "    while len(tab) < length_max:\n",
    "        tab.append(None)\n",
    "\n",
    "df_unique = pd.DataFrame(df_dict)\n",
    "df_unique"
   ],
   "metadata": {
    "collapsed": false,
    "ExecuteTime": {
     "end_time": "2023-10-18T08:43:14.470801900Z",
     "start_time": "2023-10-18T08:43:10.771873300Z"
    }
   },
   "id": "5ff3c685f434bd10"
  },
  {
   "cell_type": "markdown",
   "source": [
    "### Missing values"
   ],
   "metadata": {
    "collapsed": false
   },
   "id": "5374bb1fabcb79f7"
  },
  {
   "cell_type": "code",
   "execution_count": 16,
   "id": "1dda1bc14108f423",
   "metadata": {
    "collapsed": false,
    "ExecuteTime": {
     "end_time": "2023-10-18T08:24:53.729666500Z",
     "start_time": "2023-10-18T08:24:52.601942100Z"
    }
   },
   "outputs": [
    {
     "data": {
      "text/plain": "Country_Code                0\nCountry                     0\nPollutant_name              0\nFormat_name                 0\nSector_code                 0\nYear                        0\nEmissions             1514137\nUnit                        0\nNotation              3933696\nVersionId              117312\nParent_sector_code     446784\nSector_name            117312\ndtype: int64"
     },
     "execution_count": 16,
     "metadata": {},
     "output_type": "execute_result"
    }
   ],
   "source": [
    "missing_values_count = df.isnull().sum()\n",
    "missing_values_count"
   ]
  },
  {
   "cell_type": "markdown",
   "source": [
    "Faire un pourcentage de missing values"
   ],
   "metadata": {
    "collapsed": false
   },
   "id": "1228420fc80fcac8"
  }
 ],
 "metadata": {
  "kernelspec": {
   "display_name": "Python 3 (ipykernel)",
   "language": "python",
   "name": "python3"
  },
  "language_info": {
   "codemirror_mode": {
    "name": "ipython",
    "version": 3
   },
   "file_extension": ".py",
   "mimetype": "text/x-python",
   "name": "python",
   "nbconvert_exporter": "python",
   "pygments_lexer": "ipython3",
   "version": "3.9.13"
  }
 },
 "nbformat": 4,
 "nbformat_minor": 5
}
